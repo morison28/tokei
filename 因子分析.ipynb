{
 "cells": [
  {
   "cell_type": "code",
   "execution_count": null,
   "metadata": {},
   "outputs": [],
   "source": []
  },
  {
   "cell_type": "code",
   "execution_count": 1,
   "metadata": {},
   "outputs": [],
   "source": [
    "import warnings\n",
    "warnings.filterwarnings('ignore')\n",
    "\n",
    "import numpy as np\n",
    "import matplotlib.pyplot as plt\n",
    "import japanize_matplotlib\n",
    "from sklearn import datasets\n",
    "%matplotlib inline"
   ]
  },
  {
   "cell_type": "markdown",
   "metadata": {},
   "source": [
    "- 参考資料\n",
    "    - [【相関から構造を推定】因子分析の気持ちを理解する【いろんな分析 vol. 1 】#049](https://www.youtube.com/watch?v=ZJfytzsqI1o&list=PLhDAH9aTfnxJGiLwq2CRS87J51ZPU5IEM)\n",
    "    - [aaa](bbb)"
   ]
  },
  {
   "cell_type": "markdown",
   "metadata": {},
   "source": [
    "- 考え方\n",
    "    - データの中に相関がある→背後に何か本質的な構造がある？\n",
    "        - データから因子構造を分析\n",
    "        - 今までは｢相関があるね｣だったが，そこから更に攻める\n",
    "- 数理(ざっくりと)\n",
    "    - $\\bold{x} = \\Lambda \\bold{f} + \\bold{\\epsilon}$\n",
    "        - $\\Lambda$ : 因子負荷行列(Factor Loading Matrix)\n",
    "        - $\\bold{f}$ : 因子\n",
    "        - $\\bold{\\epsilon}$ : 因子以外からの影響(≠誤差)\n",
    "    - **因子分析 = いい感じの$\\Lambda$を見つけてデータを理解すること**\n",
    "- 具体的にできること\n",
    "    - 因子構造の把握\n",
    "        - 因子負荷行列の成分(縦ベクトル)を見ることで，どんな因子があるのか分かる\n",
    "    - データの要約\n",
    "        - 因子得点を見ることでその個体がどんな個体か要約できる\n",
    "    - マーケティングの商品分析とかに使われる\n",
    "        - aaa\n",
    "- 発展"
   ]
  },
  {
   "cell_type": "code",
   "execution_count": null,
   "metadata": {},
   "outputs": [],
   "source": []
  }
 ],
 "metadata": {
  "kernelspec": {
   "display_name": "Python 3.8.10 64-bit",
   "language": "python",
   "name": "python3"
  },
  "language_info": {
   "codemirror_mode": {
    "name": "ipython",
    "version": 3
   },
   "file_extension": ".py",
   "mimetype": "text/x-python",
   "name": "python",
   "nbconvert_exporter": "python",
   "pygments_lexer": "ipython3",
   "version": "3.8.10"
  },
  "orig_nbformat": 4,
  "vscode": {
   "interpreter": {
    "hash": "916dbcbb3f70747c44a77c7bcd40155683ae19c65e1c03b4aa3499c5328201f1"
   }
  }
 },
 "nbformat": 4,
 "nbformat_minor": 2
}
