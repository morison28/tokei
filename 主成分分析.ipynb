{
 "cells": [
  {
   "cell_type": "markdown",
   "metadata": {},
   "source": [
    "# 主成分分析"
   ]
  },
  {
   "cell_type": "code",
   "execution_count": 33,
   "metadata": {},
   "outputs": [],
   "source": [
    "import warnings\n",
    "warnings.filterwarnings('ignore')\n",
    "\n",
    "import numpy as np\n",
    "import matplotlib.pyplot as plt\n",
    "import japanize_matplotlib\n",
    "from sklearn import datasets\n",
    "%matplotlib inline"
   ]
  },
  {
   "cell_type": "markdown",
   "metadata": {},
   "source": [
    "### ライブラリで実装"
   ]
  },
  {
   "cell_type": "code",
   "execution_count": null,
   "metadata": {},
   "outputs": [],
   "source": [
    "# TODO：お勉強でやってることを実務で使えるようにライブラリで書く"
   ]
  },
  {
   "cell_type": "markdown",
   "metadata": {},
   "source": [
    "### お勉強用"
   ]
  },
  {
   "cell_type": "markdown",
   "metadata": {},
   "source": [
    "- 考え方\n",
    "    - データの間に相関がある→情報を圧縮できるのでは\n",
    "- ざっくり数理\n",
    "    - やりたいこと：情報をなるべく失わずに圧縮\n",
    "    - step1\n",
    "        - データベクトル$\\bold{x}$\n",
    "        - $z_1 = w_{11} x_1 + \\cdots + w_{1N} x_N = \\bold{w_1}\\cdot\\bold{x}$の$\\bold{w_1}$を$|\\bold{w_1}|=1$のもとで$Var[{z_1}]$を最大化する\n",
    "            - 分散を最大化するのはなぜ？\n",
    "                - 主成分分析においては，｢情報 = 分散｣\n",
    "        - $\\bold{w_1}$は第1主成分(の負荷量ベクトル)\n",
    "        - $z_1$は第1主成分得点\n",
    "    - step2\n",
    "        - $\\bold{w_2}$を$\\bold{w_1} \\perp \\bold{w_2}, |\\bold{w_2}|=1$の元で$z_2$の分散を最大化するように最適化する\n",
    "    - step3\n",
    "        - これを繰り返して，(変数の個数x変数の個数)の行列$\\bold{w}$を作る\n",
    "        - 第k主成分は，k番目にばらつきが大きい方向\n",
    "    - 実は，zからxへの回帰分析の残差が最小になる！\n",
    "        - zが分散最大，すなわちたくさん情報をもっているからxの説明ができる，ということ\n",
    "- できること･わかること\n",
    "    - 主成分を見ることで，どういう方向にデータがばらつくかが分かる\n",
    "    - 主成分得点を見ることで，データを要約できる\n",
    "    - explained variance ratioをみつことで，どの程度情報を保持しているか分かる\n",
    "        - 情報量が分散ならば，回帰分析で元に戻した時，分散の何％が説明できるのか？\n",
    "            - 100%に近いほど良い．大体80〜90％くらいあればいい感じの圧縮だと言われている\n",
    "    - たとえば，\n",
    "        - テキスト分析\n",
    "            - Bag of Wordsはベクトルがでかい(かつsparse)ので主成分分析をする，とか"
   ]
  },
  {
   "cell_type": "code",
   "execution_count": 34,
   "metadata": {},
   "outputs": [
    {
     "name": "stdout",
     "output_type": "stream",
     "text": [
      "['sepal length (cm)', 'sepal width (cm)', 'petal length (cm)', 'petal width (cm)']\n"
     ]
    }
   ],
   "source": [
    "iris = datasets.load_iris()\n",
    "\n",
    "\n",
    "# 'sepal length (cm)' : がく片長\n",
    "# 'sepal width (cm)'  : がく片幅\n",
    "# 'petal length (cm)' : 花びら長\n",
    "# 'petal width (cm)'  : 花びら幅\n",
    "\n",
    "print(iris['feature_names'])"
   ]
  },
  {
   "cell_type": "code",
   "execution_count": 35,
   "metadata": {},
   "outputs": [
    {
     "name": "stdout",
     "output_type": "stream",
     "text": [
      "(150, 4)\n",
      "(4, 4)\n"
     ]
    }
   ],
   "source": [
    "# 使用するデータセットの読み込み\n",
    "X = iris['data']\n",
    "print(X.shape)\n",
    "# データの中心化\n",
    "Xc = X - np.mean(X, axis=0)\n",
    "# 分散共分散行列\n",
    "Σ = Σ = np.cov(Xc.T, bias=False) # Falseで不偏分散\n",
    "print(Σ.shape)"
   ]
  },
  {
   "cell_type": "code",
   "execution_count": 36,
   "metadata": {},
   "outputs": [
    {
     "name": "stdout",
     "output_type": "stream",
     "text": [
      "(4, 4)\n"
     ]
    }
   ],
   "source": [
    "# 固有値問題\n",
    "\n",
    "# L: 固有値\n",
    "# V: 固有ベクトル\n",
    "#    縦ベクトルで格納されていることに注意\n",
    "#    eigではノルムが1になるように正規化されている\n",
    "\n",
    "L, V = np.linalg.eig(Σ)\n",
    "# 固有値の降順ソート用インデックスの作成\n",
    "inds = np.argsort(L)[::-1]\n",
    "# 固有値を降順ソート\n",
    "L = L[inds]\n",
    "# 対応する固有ベクトルもソート\n",
    "W = V[:, inds]\n",
    "print(W.shape)"
   ]
  },
  {
   "cell_type": "code",
   "execution_count": 37,
   "metadata": {},
   "outputs": [
    {
     "name": "stdout",
     "output_type": "stream",
     "text": [
      "(150, 2)\n"
     ]
    }
   ],
   "source": [
    "# 圧縮する次元数\n",
    "# 今回は4次元のirisデータセットを2次元に圧縮する\n",
    "dim = 2\n",
    "# 主成分得点の計算\n",
    "F = Xc @ W[:, :dim]\n",
    "print(F.shape)"
   ]
  },
  {
   "cell_type": "code",
   "execution_count": 38,
   "metadata": {},
   "outputs": [
    {
     "data": {
      "text/plain": [
       "array([0, 0, 0, 0, 0, 0, 0, 0, 0, 0, 0, 0, 0, 0, 0, 0, 0, 0, 0, 0, 0, 0,\n",
       "       0, 0, 0, 0, 0, 0, 0, 0, 0, 0, 0, 0, 0, 0, 0, 0, 0, 0, 0, 0, 0, 0,\n",
       "       0, 0, 0, 0, 0, 0, 1, 1, 1, 1, 1, 1, 1, 1, 1, 1, 1, 1, 1, 1, 1, 1,\n",
       "       1, 1, 1, 1, 1, 1, 1, 1, 1, 1, 1, 1, 1, 1, 1, 1, 1, 1, 1, 1, 1, 1,\n",
       "       1, 1, 1, 1, 1, 1, 1, 1, 1, 1, 1, 1, 2, 2, 2, 2, 2, 2, 2, 2, 2, 2,\n",
       "       2, 2, 2, 2, 2, 2, 2, 2, 2, 2, 2, 2, 2, 2, 2, 2, 2, 2, 2, 2, 2, 2,\n",
       "       2, 2, 2, 2, 2, 2, 2, 2, 2, 2, 2, 2, 2, 2, 2, 2, 2, 2])"
      ]
     },
     "execution_count": 38,
     "metadata": {},
     "output_type": "execute_result"
    }
   ],
   "source": [
    "iris['target']"
   ]
  },
  {
   "cell_type": "code",
   "execution_count": 39,
   "metadata": {},
   "outputs": [
    {
     "data": {
      "image/png": "[encoded data removed]",
      "text/plain": [
       "<Figure size 360x360 with 1 Axes>"
      ]
     },
     "metadata": {
      "needs_background": "light"
     },
     "output_type": "display_data"
    }
   ],
   "source": [
    "fig, ax = plt.subplots(figsize=(5,5))\n",
    "\n",
    "colors = []\n",
    "for i in iris['target']:\n",
    "    if i == 0:\n",
    "        colors.append('red') # setosa\n",
    "    elif i == 1:\n",
    "        colors.append('green') # versicolor\n",
    "    else:\n",
    "        colors.append('blue') # virginica\n",
    "\n",
    "ax.scatter(F[:, 0], F[:, 1], color=colors)\n",
    "\n",
    "ax.set_label(['se'])\n",
    "ax.grid()\n",
    "\n",
    "fig.show()\n"
   ]
  },
  {
   "cell_type": "code",
   "execution_count": 40,
   "metadata": {},
   "outputs": [
    {
     "name": "stdout",
     "output_type": "stream",
     "text": [
      "[0.92461872 0.05306648 0.01710261 0.00521218]\n",
      "[0.92461872 0.97768521 0.99478782 1.        ]\n"
     ]
    },
    {
     "data": {
      "image/png": "[encoded data removed]",
      "text/plain": [
       "<Figure size 288x216 with 1 Axes>"
      ]
     },
     "metadata": {
      "needs_background": "light"
     },
     "output_type": "display_data"
    }
   ],
   "source": [
    "# 寄与率の計算\n",
    "cntr = L / L.sum()\n",
    "print(cntr)\n",
    "cntr_acc = cntr.cumsum()\n",
    "print(cntr_acc)\n",
    "\n",
    "fig, ax = plt.subplots(figsize=(4,3))\n",
    "ax.plot(cntr_acc, marker='o')\n",
    "fig.suptitle('累積寄与率')\n",
    "fig.show()"
   ]
  },
  {
   "cell_type": "code",
   "execution_count": 43,
   "metadata": {},
   "outputs": [],
   "source": [
    "# 特徴量\n",
    "\n",
    "# 'sepal length (cm)' : がく片長\n",
    "# 'sepal width (cm)'  : がく片幅\n",
    "# 'petal length (cm)' : 花びら長\n",
    "# 'petal width (cm)'  : 花びら幅"
   ]
  },
  {
   "cell_type": "code",
   "execution_count": 44,
   "metadata": {},
   "outputs": [
    {
     "name": "stdout",
     "output_type": "stream",
     "text": [
      "[ 0.36138659 -0.08452251  0.85667061  0.3582892 ]\n",
      "[-0.65658877 -0.73016143  0.17337266  0.07548102]\n"
     ]
    }
   ],
   "source": [
    "# 第1主成分の固有ベクトル\n",
    "print(W[:,0])\n",
    "# 第2主成分の固有ベクトル\n",
    "print(W[:,1])"
   ]
  },
  {
   "cell_type": "markdown",
   "metadata": {},
   "source": [
    "- 第1主成分\n",
    "    - 花びら長が大きい値を取っている\n",
    "    - がく片幅がほぼ0\n",
    "    - 花びら長に関連の強い特徴量？\n",
    "- 第2主成分\n",
    "    - がく片長とがく片幅が負に大きく，花びらは0に近い\n",
    "    - がくの大きさに関係のある特徴量？"
   ]
  },
  {
   "cell_type": "code",
   "execution_count": 52,
   "metadata": {},
   "outputs": [
    {
     "name": "stdout",
     "output_type": "stream",
     "text": [
      "(6, 6)\n",
      "[[ 1.00000000e+00 -1.17569784e-01  8.71753776e-01  8.17941126e-01\n",
      "   8.97401762e-01 -3.90604413e-01]\n",
      " [-1.17569784e-01  1.00000000e+00 -4.28440104e-01 -3.66125933e-01\n",
      "  -3.98748472e-01 -8.25228709e-01]\n",
      " [ 8.71753776e-01 -4.28440104e-01  1.00000000e+00  9.62865431e-01\n",
      "   9.97873942e-01  4.83805997e-02]\n",
      " [ 8.17941126e-01 -3.66125933e-01  9.62865431e-01  1.00000000e+00\n",
      "   9.66547517e-01  4.87816029e-02]\n",
      " [ 8.97401762e-01 -3.98748472e-01  9.97873942e-01  9.66547517e-01\n",
      "   1.00000000e+00 -1.21725900e-15]\n",
      " [-3.90604413e-01 -8.25228709e-01  4.83805997e-02  4.87816029e-02\n",
      "  -1.21725900e-15  1.00000000e+00]]\n",
      "(4, 2)\n"
     ]
    },
    {
     "data": {
      "text/plain": [
       "array([[ 0.89740176, -0.39060441],\n",
       "       [-0.39874847, -0.82522871],\n",
       "       [ 0.99787394,  0.0483806 ],\n",
       "       [ 0.96654752,  0.0487816 ]])"
      ]
     },
     "execution_count": 52,
     "metadata": {},
     "output_type": "execute_result"
    }
   ],
   "source": [
    "# 単位の大きさを排除した主成分負荷量を見てみる\n",
    "# 主成分負荷料は，特徴量と主成分得点の相関係数\n",
    "\n",
    "Z = np.concatenate([Xc, F], axis=1)\n",
    "PCL = np.corrcoef(Z.T, bias=True) # 不偏分散を用いない\n",
    "print(PCL.shape)\n",
    "# print(PCL)\n",
    "PCL = PCL[:Xc.shape[1], -F.shape[1]:]\n",
    "print(PCL.shape)\n",
    "PCL"
   ]
  },
  {
   "cell_type": "markdown",
   "metadata": {},
   "source": [
    "- 固有値を用いた解釈とは異なる\n",
    "- 第1主成分\n",
    "    - がく片幅以外の特徴量に高い相関が見られる\n",
    "        - つまり，花びら長に関係のある特徴量ではなく，｢がく片長と花びらの大きさに対応した｣特徴量\n",
    "- 第2主成分\n",
    "    - がく片幅が負に大きい相関を持つので，がく片幅に対応した特徴量であるといえる\n",
    "    - こちらは固有値を用いた解釈と同じ\n",
    "- したがって，散布図から得られる考察としては\n",
    "    - 第1主成分でSetosaだけ左軸によっていることを考えると，Versicolor及びVirginicaと比べると，｢がく片幅｣に差は無いけれれど，それ以外の特徴量においては差があると言える"
   ]
  },
  {
   "cell_type": "code",
   "execution_count": null,
   "metadata": {},
   "outputs": [],
   "source": []
  }
 ],
 "metadata": {
  "kernelspec": {
   "display_name": "Python 3.8.10 64-bit",
   "language": "python",
   "name": "python3"
  },
  "language_info": {
   "codemirror_mode": {
    "name": "ipython",
    "version": 3
   },
   "file_extension": ".py",
   "mimetype": "text/x-python",
   "name": "python",
   "nbconvert_exporter": "python",
   "pygments_lexer": "ipython3",
   "version": "3.8.10"
  },
  "orig_nbformat": 4,
  "vscode": {
   "interpreter": {
    "hash": "df0893f56f349688326838aaeea0de204df53a132722cbd565e54b24a8fec5f6"
   }
  }
 },
 "nbformat": 4,
 "nbformat_minor": 2
}
